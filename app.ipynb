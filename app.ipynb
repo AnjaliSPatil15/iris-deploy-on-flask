{
 "cells": [
  {
   "cell_type": "code",
   "execution_count": 1,
   "id": "d0e7cc0a-b9a3-486c-bd7d-e714ee76adad",
   "metadata": {},
   "outputs": [],
   "source": [
    "from flask import Flask, render_template, request\n",
    "import pickle \n",
    "import numpy as np\n",
    "#import warnings\n",
    "#warnings.filterwarnings('ignore')"
   ]
  },
  {
   "cell_type": "code",
   "execution_count": 2,
   "id": "efc73b32-08a5-4c79-b441-c01034fcb890",
   "metadata": {},
   "outputs": [],
   "source": [
    "app = Flask(__name__)"
   ]
  },
  {
   "cell_type": "code",
   "execution_count": 3,
   "id": "31afa921-2de0-4a71-ab1f-fceab522eec9",
   "metadata": {},
   "outputs": [],
   "source": [
    "# Load the model \n",
    "model = pickle.load(open('models/model.sav', 'rb'))"
   ]
  },
  {
   "cell_type": "code",
   "execution_count": 4,
   "id": "2e455914-dbbe-4e53-a2c7-d5d64787a2f7",
   "metadata": {},
   "outputs": [],
   "source": [
    "@app.route('/') \n",
    "def home(): \n",
    "    return render_template('index.html')    "
   ]
  },
  {
   "cell_type": "code",
   "execution_count": 5,
   "id": "338c0941-069d-4ee4-bb42-1df769835e63",
   "metadata": {},
   "outputs": [],
   "source": [
    "@app.route('/predict', methods=['POST'])\n",
    "def predict():\n",
    "    data = request.form.to_dict() \n",
    "    sl = data['sepal_length']\n",
    "    sw = data['sepal_width']\n",
    "    pl = data['petal_length']\n",
    "    pw = data['petal_width']\n",
    "    input_data = [float(data['sepal_length']), float(data['sepal_width']), float(data['petal_length']), float(data['petal_width'])]\n",
    "    prediction = model.predict(np.array([input_data]))\n",
    "    return render_template('index.html',result=prediction[0],sl=sl,sw=sw,pl=pl,pw=pw)"
   ]
  },
  {
   "cell_type": "code",
   "execution_count": null,
   "id": "9c05b47d-a4fb-412f-9e07-b780339e3664",
   "metadata": {},
   "outputs": [
    {
     "name": "stdout",
     "output_type": "stream",
     "text": [
      " * Serving Flask app '__main__'\n",
      " * Debug mode: on\n"
     ]
    },
    {
     "name": "stderr",
     "output_type": "stream",
     "text": [
      "WARNING: This is a development server. Do not use it in a production deployment. Use a production WSGI server instead.\n",
      " * Running on http://127.0.0.1:5000\n",
      "Press CTRL+C to quit\n"
     ]
    }
   ],
   "source": [
    "if __name__ == '__main__': \n",
    "    app.run(debug=True, use_reloader=False)"
   ]
  },
  {
   "cell_type": "code",
   "execution_count": null,
   "id": "20bd61ac-d680-40f2-b35b-92fe7ac1ba47",
   "metadata": {},
   "outputs": [],
   "source": []
  }
 ],
 "metadata": {
  "kernelspec": {
   "display_name": "Python 3 (ipykernel)",
   "language": "python",
   "name": "python3"
  },
  "language_info": {
   "codemirror_mode": {
    "name": "ipython",
    "version": 3
   },
   "file_extension": ".py",
   "mimetype": "text/x-python",
   "name": "python",
   "nbconvert_exporter": "python",
   "pygments_lexer": "ipython3",
   "version": "3.11.7"
  }
 },
 "nbformat": 4,
 "nbformat_minor": 5
}
